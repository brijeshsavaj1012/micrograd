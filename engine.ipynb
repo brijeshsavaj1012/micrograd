{
 "cells": [
  {
   "cell_type": "code",
   "execution_count": 155,
   "metadata": {},
   "outputs": [],
   "source": [
    "import math\n",
    "import matplotlib.pyplot as plt\n",
    "import torch"
   ]
  },
  {
   "cell_type": "code",
   "execution_count": 157,
   "metadata": {},
   "outputs": [],
   "source": [
    "class Value:\n",
    "    def __init__(self,data, _children=(), _op='', label =''):\n",
    "        self.data = data\n",
    "        self.grad = 0.0\n",
    "        self._backward = lambda: None\n",
    "        self._prev = set(_children)\n",
    "        self._op = _op\n",
    "        self.label = label\n",
    "\n",
    "    def __repr__(self):\n",
    "        return f\"Value(data= {self.data})\"\n",
    "\n",
    "    def __add__(self,other):\n",
    "        other = other if isinstance(other,Value) else Value(other)\n",
    "        out = Value(self.data + other.data , (self, other), '+')\n",
    "        def _backward():\n",
    "            self.grad += 1.0 * out.grad\n",
    "            other.grad += 1.0 * out.grad\n",
    "        out._backward = _backward\n",
    "        return out\n",
    "    def __mul__(self,other):\n",
    "        other = other if isinstance(other,Value) else Value(other)\n",
    "        out = Value(self.data * other.data, (self,other),'*')\n",
    "        def _backward():\n",
    "            self.grad += other.data * out.grad\n",
    "            other.grad += self.data * out.grad\n",
    "        out._backward = _backward\n",
    "        return out\n",
    "    def exp(self):\n",
    "        out = Value(math.exp(self.data), (self,), 'exp')\n",
    "        def _backward():\n",
    "            self.grad += out.data * out.grad\n",
    "        out._backward = _backward\n",
    "        return out\n",
    "    def __pow__(self,other):\n",
    "        assert isinstance(other, (int,float)), 'only supporting int and float powers'\n",
    "        out = Value(self.data**other, (self,), f'**{other}')\n",
    "        def _backward():\n",
    "            self.grad += other * (self.data**(other - 1)) * out.grad\n",
    "        out._backward = _backward\n",
    "        return out \n",
    "    def __truediv__(self,other):\n",
    "        return self * other**-1\n",
    "    def __neg__(self):\n",
    "        return self * -1\n",
    "    def __sub__(self,other):\n",
    "        return self + (-other)\n",
    "\n",
    "    def __radd__(self,other):\n",
    "        return self + other\n",
    "\n",
    "    def __rmul__(self,other):\n",
    "        return self * other\n",
    "\n",
    "    def tanh(self):\n",
    "        x = self.data\n",
    "        t = (math.exp(2*x)-1)/(math.exp(2*x)+1)\n",
    "        out =  Value(t, (self,),'tanh')\n",
    "        def _backward():\n",
    "            self.grad += (1 - t**2) * out.grad\n",
    "        out._backward = _backward\n",
    "        return out\n",
    "\n",
    "    def backward(self):\n",
    "    \n",
    "        topo = []\n",
    "        visited = set()\n",
    "        def build_topo(v):\n",
    "            if v not in visited:\n",
    "                visited.add(v)\n",
    "                for child in v._prev:\n",
    "                    build_topo(child)\n",
    "                topo.append(v)\n",
    "        build_topo(self)\n",
    "        \n",
    "        self.grad = 1.0\n",
    "        for node in reversed(topo):\n",
    "            node._backward()"
   ]
  },
  {
   "cell_type": "code",
   "execution_count": 161,
   "metadata": {},
   "outputs": [],
   "source": [
    "a = Value(3,label = 'a')\n",
    "b = Value(4, label = 'b')\n",
    "c = Value(2, label = 'c')\n",
    "e = a*b; e.label = 'e'\n",
    "d = e+c; d.label = 'd'\n",
    "f = Value(-2, label = 'f')\n",
    "L = d*f; L.label='L'"
   ]
  },
  {
   "cell_type": "code",
   "execution_count": 164,
   "metadata": {},
   "outputs": [],
   "source": [
    "from graphviz import Digraph\n",
    "\n",
    "def trace(root):\n",
    "  # builds a set of all nodes and edges in a graph\n",
    "  nodes, edges = set(), set()\n",
    "  def build(v):\n",
    "    if v not in nodes:\n",
    "      nodes.add(v)\n",
    "      for child in v._prev:\n",
    "        edges.add((child, v))\n",
    "        build(child)\n",
    "  build(root)\n",
    "  return nodes, edges\n",
    "\n",
    "def draw_dot(root):\n",
    "  dot = Digraph(format='svg', graph_attr={'rankdir': 'LR'}) # LR = left to right\n",
    "  \n",
    "  nodes, edges = trace(root)\n",
    "  for n in nodes:\n",
    "    uid = str(id(n))\n",
    "    # for any value in the graph, create a rectangular ('record') node for it\n",
    "    dot.node(name = uid, label = \"{ %s | data %.4f | gard %.4f}\" % ( n.label , n.data, n.grad), shape='record')\n",
    "    if n._op:\n",
    "      # if this value is a result of some operation, create an op node for it\n",
    "      dot.node(name = uid + n._op, label = n._op)\n",
    "      # and connect this node to it\n",
    "      dot.edge(uid + n._op, uid)\n",
    "\n",
    "  for n1, n2 in edges:\n",
    "    # connect n1 to the op node of n2\n",
    "    dot.edge(str(id(n1)), str(id(n2)) + n2._op)\n",
    "\n",
    "  return dot"
   ]
  },
  {
   "cell_type": "code",
   "execution_count": 165,
   "metadata": {},
   "outputs": [],
   "source": [
    "## Manual Chain Rule Implementation\n",
    "# It is multiplication of local gradient and previous gradient(with respect to L) \n",
    "# dL/dd = f.data\n",
    "# dL/df = d.data\n",
    "\n",
    "# dL/dc = (dl/dd) * (dd/dc)\n",
    "#       =  -2 * 1\n",
    "#       = -2\n",
    "\n",
    "# dL/da = (dL/de) * de/da\n",
    "#       =  -2 * 4\n",
    "#       =  -8"
   ]
  },
  {
   "cell_type": "code",
   "execution_count": 172,
   "metadata": {},
   "outputs": [
    {
     "data": {
      "image/svg+xml": "<?xml version=\"1.0\" encoding=\"UTF-8\" standalone=\"no\"?>\n<!DOCTYPE svg PUBLIC \"-//W3C//DTD SVG 1.1//EN\"\n \"http://www.w3.org/Graphics/SVG/1.1/DTD/svg11.dtd\">\n<!-- Generated by graphviz version 2.50.0 (0)\n -->\n<!-- Pages: 1 -->\n<svg width=\"2955pt\" height=\"210pt\"\n viewBox=\"0.00 0.00 2955.00 210.00\" xmlns=\"http://www.w3.org/2000/svg\" xmlns:xlink=\"http://www.w3.org/1999/xlink\">\n<g id=\"graph0\" class=\"graph\" transform=\"scale(1 1) rotate(0) translate(4 206)\">\n<polygon fill=\"white\" stroke=\"transparent\" points=\"-4,4 -4,-206 2951,-206 2951,4 -4,4\"/>\n<!-- 140247536064544 -->\n<g id=\"node1\" class=\"node\">\n<title>140247536064544</title>\n<polygon fill=\"none\" stroke=\"black\" points=\"1053,-109.5 1053,-145.5 1239,-145.5 1239,-109.5 1053,-109.5\"/>\n<text text-anchor=\"middle\" x=\"1063\" y=\"-123.8\" font-family=\"Times,serif\" font-size=\"14.00\"> </text>\n<polyline fill=\"none\" stroke=\"black\" points=\"1073,-109.5 1073,-145.5 \"/>\n<text text-anchor=\"middle\" x=\"1113\" y=\"-123.8\" font-family=\"Times,serif\" font-size=\"14.00\">data 2.0000</text>\n<polyline fill=\"none\" stroke=\"black\" points=\"1153,-109.5 1153,-145.5 \"/>\n<text text-anchor=\"middle\" x=\"1196\" y=\"-123.8\" font-family=\"Times,serif\" font-size=\"14.00\">gard &#45;0.1976</text>\n</g>\n<!-- 140247536064736* -->\n<g id=\"node11\" class=\"node\">\n<title>140247536064736*</title>\n<ellipse fill=\"none\" stroke=\"black\" cx=\"1304\" cy=\"-99.5\" rx=\"27\" ry=\"18\"/>\n<text text-anchor=\"middle\" x=\"1304\" y=\"-95.8\" font-family=\"Times,serif\" font-size=\"14.00\">*</text>\n</g>\n<!-- 140247536064544&#45;&gt;140247536064736* -->\n<g id=\"edge11\" class=\"edge\">\n<title>140247536064544&#45;&gt;140247536064736*</title>\n<path fill=\"none\" stroke=\"black\" d=\"M1239.1,-110.97C1249.13,-109.17 1258.85,-107.42 1267.55,-105.86\"/>\n<polygon fill=\"black\" stroke=\"black\" points=\"1268.38,-109.27 1277.6,-104.06 1267.14,-102.38 1268.38,-109.27\"/>\n</g>\n<!-- 140246931280944 -->\n<g id=\"node2\" class=\"node\">\n<title>140246931280944</title>\n<polygon fill=\"none\" stroke=\"black\" points=\"0,-55.5 0,-91.5 200,-91.5 200,-55.5 0,-55.5\"/>\n<text text-anchor=\"middle\" x=\"16.5\" y=\"-69.8\" font-family=\"Times,serif\" font-size=\"14.00\">w1</text>\n<polyline fill=\"none\" stroke=\"black\" points=\"33,-55.5 33,-91.5 \"/>\n<text text-anchor=\"middle\" x=\"75.5\" y=\"-69.8\" font-family=\"Times,serif\" font-size=\"14.00\">data &#45;3.0000</text>\n<polyline fill=\"none\" stroke=\"black\" points=\"118,-55.5 118,-91.5 \"/>\n<text text-anchor=\"middle\" x=\"159\" y=\"-69.8\" font-family=\"Times,serif\" font-size=\"14.00\">gard 0.7184</text>\n</g>\n<!-- 140246931283920* -->\n<g id=\"node28\" class=\"node\">\n<title>140246931283920*</title>\n<ellipse fill=\"none\" stroke=\"black\" cx=\"263\" cy=\"-73.5\" rx=\"27\" ry=\"18\"/>\n<text text-anchor=\"middle\" x=\"263\" y=\"-69.8\" font-family=\"Times,serif\" font-size=\"14.00\">*</text>\n</g>\n<!-- 140246931280944&#45;&gt;140246931283920* -->\n<g id=\"edge21\" class=\"edge\">\n<title>140246931280944&#45;&gt;140246931283920*</title>\n<path fill=\"none\" stroke=\"black\" d=\"M200.21,-73.5C209.2,-73.5 217.86,-73.5 225.7,-73.5\"/>\n<polygon fill=\"black\" stroke=\"black\" points=\"225.85,-77 235.85,-73.5 225.85,-70 225.85,-77\"/>\n</g>\n<!-- 140246931279936 -->\n<g id=\"node3\" class=\"node\">\n<title>140246931279936</title>\n<polygon fill=\"none\" stroke=\"black\" points=\"666,-82.5 666,-118.5 925,-118.5 925,-82.5 666,-82.5\"/>\n<text text-anchor=\"middle\" x=\"712\" y=\"-96.8\" font-family=\"Times,serif\" font-size=\"14.00\">w1x1 + w2x2</text>\n<polyline fill=\"none\" stroke=\"black\" points=\"758,-82.5 758,-118.5 \"/>\n<text text-anchor=\"middle\" x=\"800.5\" y=\"-96.8\" font-family=\"Times,serif\" font-size=\"14.00\">data &#45;4.0000</text>\n<polyline fill=\"none\" stroke=\"black\" points=\"843,-82.5 843,-118.5 \"/>\n<text text-anchor=\"middle\" x=\"884\" y=\"-96.8\" font-family=\"Times,serif\" font-size=\"14.00\">gard 0.3592</text>\n</g>\n<!-- 140246931283680+ -->\n<g id=\"node13\" class=\"node\">\n<title>140246931283680+</title>\n<ellipse fill=\"none\" stroke=\"black\" cx=\"988\" cy=\"-72.5\" rx=\"27\" ry=\"18\"/>\n<text text-anchor=\"middle\" x=\"988\" y=\"-68.8\" font-family=\"Times,serif\" font-size=\"14.00\">+</text>\n</g>\n<!-- 140246931279936&#45;&gt;140246931283680+ -->\n<g id=\"edge19\" class=\"edge\">\n<title>140246931279936&#45;&gt;140246931283680+</title>\n<path fill=\"none\" stroke=\"black\" d=\"M919.03,-82.49C930.7,-80.77 941.77,-79.15 951.46,-77.72\"/>\n<polygon fill=\"black\" stroke=\"black\" points=\"952.01,-81.18 961.4,-76.26 951,-74.25 952.01,-81.18\"/>\n</g>\n<!-- 140246931279936+ -->\n<g id=\"node4\" class=\"node\">\n<title>140246931279936+</title>\n<ellipse fill=\"none\" stroke=\"black\" cx=\"603\" cy=\"-100.5\" rx=\"27\" ry=\"18\"/>\n<text text-anchor=\"middle\" x=\"603\" y=\"-96.8\" font-family=\"Times,serif\" font-size=\"14.00\">+</text>\n</g>\n<!-- 140246931279936+&#45;&gt;140246931279936 -->\n<g id=\"edge1\" class=\"edge\">\n<title>140246931279936+&#45;&gt;140246931279936</title>\n<path fill=\"none\" stroke=\"black\" d=\"M630.09,-100.5C637.58,-100.5 646.3,-100.5 655.75,-100.5\"/>\n<polygon fill=\"black\" stroke=\"black\" points=\"655.84,-104 665.84,-100.5 655.84,-97 655.84,-104\"/>\n</g>\n<!-- 140247536064064 -->\n<g id=\"node5\" class=\"node\">\n<title>140247536064064</title>\n<polygon fill=\"none\" stroke=\"black\" points=\"1680,-136.5 1680,-172.5 1867,-172.5 1867,-136.5 1680,-136.5\"/>\n<text text-anchor=\"middle\" x=\"1690\" y=\"-150.8\" font-family=\"Times,serif\" font-size=\"14.00\"> </text>\n<polyline fill=\"none\" stroke=\"black\" points=\"1700,-136.5 1700,-172.5 \"/>\n<text text-anchor=\"middle\" x=\"1742.5\" y=\"-150.8\" font-family=\"Times,serif\" font-size=\"14.00\">data &#45;1.0000</text>\n<polyline fill=\"none\" stroke=\"black\" points=\"1785,-136.5 1785,-172.5 \"/>\n<text text-anchor=\"middle\" x=\"1826\" y=\"-150.8\" font-family=\"Times,serif\" font-size=\"14.00\">gard 0.9002</text>\n</g>\n<!-- 140247536066176+ -->\n<g id=\"node7\" class=\"node\">\n<title>140247536066176+</title>\n<ellipse fill=\"none\" stroke=\"black\" cx=\"1930\" cy=\"-126.5\" rx=\"27\" ry=\"18\"/>\n<text text-anchor=\"middle\" x=\"1930\" y=\"-122.8\" font-family=\"Times,serif\" font-size=\"14.00\">+</text>\n</g>\n<!-- 140247536064064&#45;&gt;140247536066176+ -->\n<g id=\"edge12\" class=\"edge\">\n<title>140247536064064&#45;&gt;140247536066176+</title>\n<path fill=\"none\" stroke=\"black\" d=\"M1867.05,-137.73C1876.54,-136.01 1885.71,-134.35 1893.95,-132.85\"/>\n<polygon fill=\"black\" stroke=\"black\" points=\"1894.64,-136.28 1903.85,-131.06 1893.39,-129.4 1894.64,-136.28\"/>\n</g>\n<!-- 140247536066176 -->\n<g id=\"node6\" class=\"node\">\n<title>140247536066176</title>\n<polygon fill=\"none\" stroke=\"black\" points=\"2211,-108.5 2211,-144.5 2398,-144.5 2398,-108.5 2211,-108.5\"/>\n<text text-anchor=\"middle\" x=\"2221\" y=\"-122.8\" font-family=\"Times,serif\" font-size=\"14.00\"> </text>\n<polyline fill=\"none\" stroke=\"black\" points=\"2231,-108.5 2231,-144.5 \"/>\n<text text-anchor=\"middle\" x=\"2273.5\" y=\"-122.8\" font-family=\"Times,serif\" font-size=\"14.00\">data &#45;0.8892</text>\n<polyline fill=\"none\" stroke=\"black\" points=\"2316,-108.5 2316,-144.5 \"/>\n<text text-anchor=\"middle\" x=\"2357\" y=\"-122.8\" font-family=\"Times,serif\" font-size=\"14.00\">gard 0.9002</text>\n</g>\n<!-- 140247536065312* -->\n<g id=\"node18\" class=\"node\">\n<title>140247536065312*</title>\n<ellipse fill=\"none\" stroke=\"black\" cx=\"2683\" cy=\"-98.5\" rx=\"27\" ry=\"18\"/>\n<text text-anchor=\"middle\" x=\"2683\" y=\"-94.8\" font-family=\"Times,serif\" font-size=\"14.00\">*</text>\n</g>\n<!-- 140247536066176&#45;&gt;140247536065312* -->\n<g id=\"edge26\" class=\"edge\">\n<title>140247536066176&#45;&gt;140247536065312*</title>\n<path fill=\"none\" stroke=\"black\" d=\"M2398.06,-119.91C2460.72,-115.41 2545.35,-109.24 2620,-103.5 2628.42,-102.85 2637.48,-102.13 2646.01,-101.45\"/>\n<polygon fill=\"black\" stroke=\"black\" points=\"2646.38,-104.93 2656.06,-100.64 2645.81,-97.95 2646.38,-104.93\"/>\n</g>\n<!-- 140247536066176+&#45;&gt;140247536066176 -->\n<g id=\"edge2\" class=\"edge\">\n<title>140247536066176+&#45;&gt;140247536066176</title>\n<path fill=\"none\" stroke=\"black\" d=\"M1957.19,-126.5C2006.95,-126.5 2117.57,-126.5 2200.49,-126.5\"/>\n<polygon fill=\"black\" stroke=\"black\" points=\"2200.71,-130 2210.71,-126.5 2200.71,-123 2200.71,-130\"/>\n</g>\n<!-- 140247536064640 -->\n<g id=\"node8\" class=\"node\">\n<title>140247536064640</title>\n<polygon fill=\"none\" stroke=\"black\" points=\"1682.5,-26.5 1682.5,-62.5 1864.5,-62.5 1864.5,-26.5 1682.5,-26.5\"/>\n<text text-anchor=\"middle\" x=\"1692.5\" y=\"-40.8\" font-family=\"Times,serif\" font-size=\"14.00\"> </text>\n<polyline fill=\"none\" stroke=\"black\" points=\"1702.5,-26.5 1702.5,-62.5 \"/>\n<text text-anchor=\"middle\" x=\"1742.5\" y=\"-40.8\" font-family=\"Times,serif\" font-size=\"14.00\">data 1.0000</text>\n<polyline fill=\"none\" stroke=\"black\" points=\"1782.5,-26.5 1782.5,-62.5 \"/>\n<text text-anchor=\"middle\" x=\"1823.5\" y=\"-40.8\" font-family=\"Times,serif\" font-size=\"14.00\">gard 0.7206</text>\n</g>\n<!-- 140247536063824+ -->\n<g id=\"node20\" class=\"node\">\n<title>140247536063824+</title>\n<ellipse fill=\"none\" stroke=\"black\" cx=\"1930\" cy=\"-71.5\" rx=\"27\" ry=\"18\"/>\n<text text-anchor=\"middle\" x=\"1930\" y=\"-67.8\" font-family=\"Times,serif\" font-size=\"14.00\">+</text>\n</g>\n<!-- 140247536064640&#45;&gt;140247536063824+ -->\n<g id=\"edge17\" class=\"edge\">\n<title>140247536064640&#45;&gt;140247536063824+</title>\n<path fill=\"none\" stroke=\"black\" d=\"M1864.82,-60.28C1875.07,-62.08 1885.01,-63.81 1893.88,-65.36\"/>\n<polygon fill=\"black\" stroke=\"black\" points=\"1893.3,-68.81 1903.75,-67.09 1894.5,-61.92 1893.3,-68.81\"/>\n</g>\n<!-- 140246931181232 -->\n<g id=\"node9\" class=\"node\">\n<title>140246931181232</title>\n<polygon fill=\"none\" stroke=\"black\" points=\"2.5,-165.5 2.5,-201.5 197.5,-201.5 197.5,-165.5 2.5,-165.5\"/>\n<text text-anchor=\"middle\" x=\"19\" y=\"-179.8\" font-family=\"Times,serif\" font-size=\"14.00\">w2</text>\n<polyline fill=\"none\" stroke=\"black\" points=\"35.5,-165.5 35.5,-201.5 \"/>\n<text text-anchor=\"middle\" x=\"75.5\" y=\"-179.8\" font-family=\"Times,serif\" font-size=\"14.00\">data 2.0000</text>\n<polyline fill=\"none\" stroke=\"black\" points=\"115.5,-165.5 115.5,-201.5 \"/>\n<text text-anchor=\"middle\" x=\"156.5\" y=\"-179.8\" font-family=\"Times,serif\" font-size=\"14.00\">gard 0.3592</text>\n</g>\n<!-- 140246931283872* -->\n<g id=\"node25\" class=\"node\">\n<title>140246931283872*</title>\n<ellipse fill=\"none\" stroke=\"black\" cx=\"263\" cy=\"-128.5\" rx=\"27\" ry=\"18\"/>\n<text text-anchor=\"middle\" x=\"263\" y=\"-124.8\" font-family=\"Times,serif\" font-size=\"14.00\">*</text>\n</g>\n<!-- 140246931181232&#45;&gt;140246931283872* -->\n<g id=\"edge28\" class=\"edge\">\n<title>140246931181232&#45;&gt;140246931283872*</title>\n<path fill=\"none\" stroke=\"black\" d=\"M172.53,-165.44C181.84,-162.67 191.2,-159.67 200,-156.5 210.53,-152.71 221.75,-147.9 231.72,-143.33\"/>\n<polygon fill=\"black\" stroke=\"black\" points=\"233.25,-146.48 240.82,-139.07 230.28,-140.14 233.25,-146.48\"/>\n</g>\n<!-- 140247536064736 -->\n<g id=\"node10\" class=\"node\">\n<title>140247536064736</title>\n<polygon fill=\"none\" stroke=\"black\" points=\"1367,-81.5 1367,-117.5 1554,-117.5 1554,-81.5 1367,-81.5\"/>\n<text text-anchor=\"middle\" x=\"1377\" y=\"-95.8\" font-family=\"Times,serif\" font-size=\"14.00\"> </text>\n<polyline fill=\"none\" stroke=\"black\" points=\"1387,-81.5 1387,-117.5 \"/>\n<text text-anchor=\"middle\" x=\"1429.5\" y=\"-95.8\" font-family=\"Times,serif\" font-size=\"14.00\">data &#45;2.2000</text>\n<polyline fill=\"none\" stroke=\"black\" points=\"1472,-81.5 1472,-117.5 \"/>\n<text text-anchor=\"middle\" x=\"1513\" y=\"-95.8\" font-family=\"Times,serif\" font-size=\"14.00\">gard 0.1796</text>\n</g>\n<!-- 140247536064400exp -->\n<g id=\"node23\" class=\"node\">\n<title>140247536064400exp</title>\n<ellipse fill=\"none\" stroke=\"black\" cx=\"1617\" cy=\"-99.5\" rx=\"27\" ry=\"18\"/>\n<text text-anchor=\"middle\" x=\"1617\" y=\"-95.8\" font-family=\"Times,serif\" font-size=\"14.00\">exp</text>\n</g>\n<!-- 140247536064736&#45;&gt;140247536064400exp -->\n<g id=\"edge14\" class=\"edge\">\n<title>140247536064736&#45;&gt;140247536064400exp</title>\n<path fill=\"none\" stroke=\"black\" d=\"M1554.05,-99.5C1563.06,-99.5 1571.79,-99.5 1579.7,-99.5\"/>\n<polygon fill=\"black\" stroke=\"black\" points=\"1579.95,-103 1589.95,-99.5 1579.95,-96 1579.95,-103\"/>\n</g>\n<!-- 140247536064736*&#45;&gt;140247536064736 -->\n<g id=\"edge3\" class=\"edge\">\n<title>140247536064736*&#45;&gt;140247536064736</title>\n<path fill=\"none\" stroke=\"black\" d=\"M1331.21,-99.5C1338.73,-99.5 1347.43,-99.5 1356.67,-99.5\"/>\n<polygon fill=\"black\" stroke=\"black\" points=\"1356.89,-103 1366.89,-99.5 1356.89,-96 1356.89,-103\"/>\n</g>\n<!-- 140246931283680 -->\n<g id=\"node12\" class=\"node\">\n<title>140246931283680</title>\n<polygon fill=\"none\" stroke=\"black\" points=\"1051,-54.5 1051,-90.5 1241,-90.5 1241,-54.5 1051,-54.5\"/>\n<text text-anchor=\"middle\" x=\"1062.5\" y=\"-68.8\" font-family=\"Times,serif\" font-size=\"14.00\">n</text>\n<polyline fill=\"none\" stroke=\"black\" points=\"1074,-54.5 1074,-90.5 \"/>\n<text text-anchor=\"middle\" x=\"1116.5\" y=\"-68.8\" font-family=\"Times,serif\" font-size=\"14.00\">data &#45;1.1000</text>\n<polyline fill=\"none\" stroke=\"black\" points=\"1159,-54.5 1159,-90.5 \"/>\n<text text-anchor=\"middle\" x=\"1200\" y=\"-68.8\" font-family=\"Times,serif\" font-size=\"14.00\">gard 0.3592</text>\n</g>\n<!-- 140246931283680&#45;&gt;140247536064736* -->\n<g id=\"edge13\" class=\"edge\">\n<title>140246931283680&#45;&gt;140247536064736*</title>\n<path fill=\"none\" stroke=\"black\" d=\"M1241.34,-88.83C1250.62,-90.44 1259.58,-91.99 1267.66,-93.38\"/>\n<polygon fill=\"black\" stroke=\"black\" points=\"1267.27,-96.87 1277.72,-95.12 1268.46,-89.97 1267.27,-96.87\"/>\n</g>\n<!-- 140246931283680+&#45;&gt;140246931283680 -->\n<g id=\"edge4\" class=\"edge\">\n<title>140246931283680+&#45;&gt;140246931283680</title>\n<path fill=\"none\" stroke=\"black\" d=\"M1015.11,-72.5C1022.63,-72.5 1031.32,-72.5 1040.58,-72.5\"/>\n<polygon fill=\"black\" stroke=\"black\" points=\"1040.81,-76 1050.81,-72.5 1040.81,-69 1040.81,-76\"/>\n</g>\n<!-- 140247536062720 -->\n<g id=\"node14\" class=\"node\">\n<title>140247536062720</title>\n<polygon fill=\"none\" stroke=\"black\" points=\"2434,-57.5 2434,-93.5 2620,-93.5 2620,-57.5 2434,-57.5\"/>\n<text text-anchor=\"middle\" x=\"2444\" y=\"-71.8\" font-family=\"Times,serif\" font-size=\"14.00\"> </text>\n<polyline fill=\"none\" stroke=\"black\" points=\"2454,-57.5 2454,-93.5 \"/>\n<text text-anchor=\"middle\" x=\"2494\" y=\"-71.8\" font-family=\"Times,serif\" font-size=\"14.00\">data 0.9002</text>\n<polyline fill=\"none\" stroke=\"black\" points=\"2534,-57.5 2534,-93.5 \"/>\n<text text-anchor=\"middle\" x=\"2577\" y=\"-71.8\" font-family=\"Times,serif\" font-size=\"14.00\">gard &#45;0.8892</text>\n</g>\n<!-- 140247536062720&#45;&gt;140247536065312* -->\n<g id=\"edge22\" class=\"edge\">\n<title>140247536062720&#45;&gt;140247536065312*</title>\n<path fill=\"none\" stroke=\"black\" d=\"M2620.25,-89.28C2629.42,-90.65 2638.3,-91.97 2646.32,-93.17\"/>\n<polygon fill=\"black\" stroke=\"black\" points=\"2645.93,-96.65 2656.33,-94.67 2646.96,-89.73 2645.93,-96.65\"/>\n</g>\n<!-- 140247536062720**&#45;1 -->\n<g id=\"node15\" class=\"node\">\n<title>140247536062720**&#45;1</title>\n<ellipse fill=\"none\" stroke=\"black\" cx=\"2304.5\" cy=\"-71.5\" rx=\"27\" ry=\"18\"/>\n<text text-anchor=\"middle\" x=\"2304.5\" y=\"-67.8\" font-family=\"Times,serif\" font-size=\"14.00\">**&#45;1</text>\n</g>\n<!-- 140247536062720**&#45;1&#45;&gt;140247536062720 -->\n<g id=\"edge5\" class=\"edge\">\n<title>140247536062720**&#45;1&#45;&gt;140247536062720</title>\n<path fill=\"none\" stroke=\"black\" d=\"M2331.66,-71.97C2354.71,-72.39 2389.83,-73.03 2423.91,-73.65\"/>\n<polygon fill=\"black\" stroke=\"black\" points=\"2423.9,-77.15 2433.96,-73.83 2424.03,-70.15 2423.9,-77.15\"/>\n</g>\n<!-- 140246931280656 -->\n<g id=\"node16\" class=\"node\">\n<title>140246931280656</title>\n<polygon fill=\"none\" stroke=\"black\" points=\"703,-27.5 703,-63.5 888,-63.5 888,-27.5 703,-27.5\"/>\n<text text-anchor=\"middle\" x=\"714.5\" y=\"-41.8\" font-family=\"Times,serif\" font-size=\"14.00\">b</text>\n<polyline fill=\"none\" stroke=\"black\" points=\"726,-27.5 726,-63.5 \"/>\n<text text-anchor=\"middle\" x=\"766\" y=\"-41.8\" font-family=\"Times,serif\" font-size=\"14.00\">data 2.9000</text>\n<polyline fill=\"none\" stroke=\"black\" points=\"806,-27.5 806,-63.5 \"/>\n<text text-anchor=\"middle\" x=\"847\" y=\"-41.8\" font-family=\"Times,serif\" font-size=\"14.00\">gard 0.3592</text>\n</g>\n<!-- 140246931280656&#45;&gt;140246931283680+ -->\n<g id=\"edge23\" class=\"edge\">\n<title>140246931280656&#45;&gt;140246931283680+</title>\n<path fill=\"none\" stroke=\"black\" d=\"M888.12,-58.49C910.59,-61.67 933.33,-64.89 951.33,-67.44\"/>\n<polygon fill=\"black\" stroke=\"black\" points=\"950.95,-70.93 961.34,-68.86 951.93,-63.99 950.95,-70.93\"/>\n</g>\n<!-- 140247536065312 -->\n<g id=\"node17\" class=\"node\">\n<title>140247536065312</title>\n<polygon fill=\"none\" stroke=\"black\" points=\"2746,-80.5 2746,-116.5 2947,-116.5 2947,-80.5 2746,-80.5\"/>\n<text text-anchor=\"middle\" x=\"2763\" y=\"-94.8\" font-family=\"Times,serif\" font-size=\"14.00\">out</text>\n<polyline fill=\"none\" stroke=\"black\" points=\"2780,-80.5 2780,-116.5 \"/>\n<text text-anchor=\"middle\" x=\"2822.5\" y=\"-94.8\" font-family=\"Times,serif\" font-size=\"14.00\">data &#45;0.8005</text>\n<polyline fill=\"none\" stroke=\"black\" points=\"2865,-80.5 2865,-116.5 \"/>\n<text text-anchor=\"middle\" x=\"2906\" y=\"-94.8\" font-family=\"Times,serif\" font-size=\"14.00\">gard 1.0000</text>\n</g>\n<!-- 140247536065312*&#45;&gt;140247536065312 -->\n<g id=\"edge6\" class=\"edge\">\n<title>140247536065312*&#45;&gt;140247536065312</title>\n<path fill=\"none\" stroke=\"black\" d=\"M2710.31,-98.5C2717.79,-98.5 2726.44,-98.5 2735.68,-98.5\"/>\n<polygon fill=\"black\" stroke=\"black\" points=\"2735.9,-102 2745.9,-98.5 2735.9,-95 2735.9,-102\"/>\n</g>\n<!-- 140247536063824 -->\n<g id=\"node19\" class=\"node\">\n<title>140247536063824</title>\n<polygon fill=\"none\" stroke=\"black\" points=\"1993,-53.5 1993,-89.5 2175,-89.5 2175,-53.5 1993,-53.5\"/>\n<text text-anchor=\"middle\" x=\"2003\" y=\"-67.8\" font-family=\"Times,serif\" font-size=\"14.00\"> </text>\n<polyline fill=\"none\" stroke=\"black\" points=\"2013,-53.5 2013,-89.5 \"/>\n<text text-anchor=\"middle\" x=\"2053\" y=\"-67.8\" font-family=\"Times,serif\" font-size=\"14.00\">data 1.1108</text>\n<polyline fill=\"none\" stroke=\"black\" points=\"2093,-53.5 2093,-89.5 \"/>\n<text text-anchor=\"middle\" x=\"2134\" y=\"-67.8\" font-family=\"Times,serif\" font-size=\"14.00\">gard 0.7206</text>\n</g>\n<!-- 140247536063824&#45;&gt;140247536062720**&#45;1 -->\n<g id=\"edge15\" class=\"edge\">\n<title>140247536063824&#45;&gt;140247536062720**&#45;1</title>\n<path fill=\"none\" stroke=\"black\" d=\"M2175.13,-71.5C2207.43,-71.5 2242.03,-71.5 2267.16,-71.5\"/>\n<polygon fill=\"black\" stroke=\"black\" points=\"2267.32,-75 2277.32,-71.5 2267.32,-68 2267.32,-75\"/>\n</g>\n<!-- 140247536063824+&#45;&gt;140247536063824 -->\n<g id=\"edge7\" class=\"edge\">\n<title>140247536063824+&#45;&gt;140247536063824</title>\n<path fill=\"none\" stroke=\"black\" d=\"M1957.13,-71.5C1964.67,-71.5 1973.39,-71.5 1982.64,-71.5\"/>\n<polygon fill=\"black\" stroke=\"black\" points=\"1982.87,-75 1992.87,-71.5 1982.87,-68 1982.87,-75\"/>\n</g>\n<!-- 140246931180896 -->\n<g id=\"node21\" class=\"node\">\n<title>140246931180896</title>\n<polygon fill=\"none\" stroke=\"black\" points=\"4,-110.5 4,-146.5 196,-146.5 196,-110.5 4,-110.5\"/>\n<text text-anchor=\"middle\" x=\"19\" y=\"-124.8\" font-family=\"Times,serif\" font-size=\"14.00\">x2</text>\n<polyline fill=\"none\" stroke=\"black\" points=\"34,-110.5 34,-146.5 \"/>\n<text text-anchor=\"middle\" x=\"74\" y=\"-124.8\" font-family=\"Times,serif\" font-size=\"14.00\">data 1.0000</text>\n<polyline fill=\"none\" stroke=\"black\" points=\"114,-110.5 114,-146.5 \"/>\n<text text-anchor=\"middle\" x=\"155\" y=\"-124.8\" font-family=\"Times,serif\" font-size=\"14.00\">gard 0.7184</text>\n</g>\n<!-- 140246931180896&#45;&gt;140246931283872* -->\n<g id=\"edge27\" class=\"edge\">\n<title>140246931180896&#45;&gt;140246931283872*</title>\n<path fill=\"none\" stroke=\"black\" d=\"M196.05,-128.5C206.52,-128.5 216.65,-128.5 225.71,-128.5\"/>\n<polygon fill=\"black\" stroke=\"black\" points=\"225.79,-132 235.79,-128.5 225.79,-125 225.79,-132\"/>\n</g>\n<!-- 140247536064400 -->\n<g id=\"node22\" class=\"node\">\n<title>140247536064400</title>\n<polygon fill=\"none\" stroke=\"black\" points=\"1681,-81.5 1681,-117.5 1866,-117.5 1866,-81.5 1681,-81.5\"/>\n<text text-anchor=\"middle\" x=\"1692.5\" y=\"-95.8\" font-family=\"Times,serif\" font-size=\"14.00\">e</text>\n<polyline fill=\"none\" stroke=\"black\" points=\"1704,-81.5 1704,-117.5 \"/>\n<text text-anchor=\"middle\" x=\"1744\" y=\"-95.8\" font-family=\"Times,serif\" font-size=\"14.00\">data 0.1108</text>\n<polyline fill=\"none\" stroke=\"black\" points=\"1784,-81.5 1784,-117.5 \"/>\n<text text-anchor=\"middle\" x=\"1825\" y=\"-95.8\" font-family=\"Times,serif\" font-size=\"14.00\">gard 1.6209</text>\n</g>\n<!-- 140247536064400&#45;&gt;140247536066176+ -->\n<g id=\"edge25\" class=\"edge\">\n<title>140247536064400&#45;&gt;140247536066176+</title>\n<path fill=\"none\" stroke=\"black\" d=\"M1866.16,-115.52C1875.84,-117.21 1885.22,-118.85 1893.64,-120.32\"/>\n<polygon fill=\"black\" stroke=\"black\" points=\"1893.29,-123.81 1903.75,-122.09 1894.5,-116.92 1893.29,-123.81\"/>\n</g>\n<!-- 140247536064400&#45;&gt;140247536063824+ -->\n<g id=\"edge18\" class=\"edge\">\n<title>140247536064400&#45;&gt;140247536063824+</title>\n<path fill=\"none\" stroke=\"black\" d=\"M1866.16,-82.89C1875.84,-81.13 1885.22,-79.43 1893.64,-77.91\"/>\n<polygon fill=\"black\" stroke=\"black\" points=\"1894.53,-81.3 1903.75,-76.08 1893.28,-74.42 1894.53,-81.3\"/>\n</g>\n<!-- 140247536064400exp&#45;&gt;140247536064400 -->\n<g id=\"edge8\" class=\"edge\">\n<title>140247536064400exp&#45;&gt;140247536064400</title>\n<path fill=\"none\" stroke=\"black\" d=\"M1644.21,-99.5C1652,-99.5 1661.05,-99.5 1670.67,-99.5\"/>\n<polygon fill=\"black\" stroke=\"black\" points=\"1670.87,-103 1680.87,-99.5 1670.87,-96 1670.87,-103\"/>\n</g>\n<!-- 140246931283872 -->\n<g id=\"node24\" class=\"node\">\n<title>140246931283872</title>\n<polygon fill=\"none\" stroke=\"black\" points=\"328.5,-110.5 328.5,-146.5 537.5,-146.5 537.5,-110.5 328.5,-110.5\"/>\n<text text-anchor=\"middle\" x=\"352\" y=\"-124.8\" font-family=\"Times,serif\" font-size=\"14.00\">w2x2</text>\n<polyline fill=\"none\" stroke=\"black\" points=\"375.5,-110.5 375.5,-146.5 \"/>\n<text text-anchor=\"middle\" x=\"415.5\" y=\"-124.8\" font-family=\"Times,serif\" font-size=\"14.00\">data 2.0000</text>\n<polyline fill=\"none\" stroke=\"black\" points=\"455.5,-110.5 455.5,-146.5 \"/>\n<text text-anchor=\"middle\" x=\"496.5\" y=\"-124.8\" font-family=\"Times,serif\" font-size=\"14.00\">gard 0.3592</text>\n</g>\n<!-- 140246931283872&#45;&gt;140246931279936+ -->\n<g id=\"edge16\" class=\"edge\">\n<title>140246931283872&#45;&gt;140246931279936+</title>\n<path fill=\"none\" stroke=\"black\" d=\"M537.53,-111.25C547.8,-109.53 557.66,-107.89 566.45,-106.43\"/>\n<polygon fill=\"black\" stroke=\"black\" points=\"567.3,-109.83 576.59,-104.74 566.15,-102.93 567.3,-109.83\"/>\n</g>\n<!-- 140246931283872*&#45;&gt;140246931283872 -->\n<g id=\"edge9\" class=\"edge\">\n<title>140246931283872*&#45;&gt;140246931283872</title>\n<path fill=\"none\" stroke=\"black\" d=\"M290.25,-128.5C298.43,-128.5 308.03,-128.5 318.31,-128.5\"/>\n<polygon fill=\"black\" stroke=\"black\" points=\"318.35,-132 328.35,-128.5 318.35,-125 318.35,-132\"/>\n</g>\n<!-- 140246931180992 -->\n<g id=\"node26\" class=\"node\">\n<title>140246931180992</title>\n<polygon fill=\"none\" stroke=\"black\" points=\"2,-0.5 2,-36.5 198,-36.5 198,-0.5 2,-0.5\"/>\n<text text-anchor=\"middle\" x=\"17\" y=\"-14.8\" font-family=\"Times,serif\" font-size=\"14.00\">x1</text>\n<polyline fill=\"none\" stroke=\"black\" points=\"32,-0.5 32,-36.5 \"/>\n<text text-anchor=\"middle\" x=\"72\" y=\"-14.8\" font-family=\"Times,serif\" font-size=\"14.00\">data 2.0000</text>\n<polyline fill=\"none\" stroke=\"black\" points=\"112,-0.5 112,-36.5 \"/>\n<text text-anchor=\"middle\" x=\"155\" y=\"-14.8\" font-family=\"Times,serif\" font-size=\"14.00\">gard &#45;1.0776</text>\n</g>\n<!-- 140246931180992&#45;&gt;140246931283920* -->\n<g id=\"edge24\" class=\"edge\">\n<title>140246931180992&#45;&gt;140246931283920*</title>\n<path fill=\"none\" stroke=\"black\" d=\"M172.53,-36.56C181.84,-39.33 191.2,-42.33 200,-45.5 210.53,-49.29 221.75,-54.1 231.72,-58.67\"/>\n<polygon fill=\"black\" stroke=\"black\" points=\"230.28,-61.86 240.82,-62.93 233.25,-55.52 230.28,-61.86\"/>\n</g>\n<!-- 140246931283920 -->\n<g id=\"node27\" class=\"node\">\n<title>140246931283920</title>\n<polygon fill=\"none\" stroke=\"black\" points=\"326,-55.5 326,-91.5 540,-91.5 540,-55.5 326,-55.5\"/>\n<text text-anchor=\"middle\" x=\"349.5\" y=\"-69.8\" font-family=\"Times,serif\" font-size=\"14.00\">w1x1</text>\n<polyline fill=\"none\" stroke=\"black\" points=\"373,-55.5 373,-91.5 \"/>\n<text text-anchor=\"middle\" x=\"415.5\" y=\"-69.8\" font-family=\"Times,serif\" font-size=\"14.00\">data &#45;6.0000</text>\n<polyline fill=\"none\" stroke=\"black\" points=\"458,-55.5 458,-91.5 \"/>\n<text text-anchor=\"middle\" x=\"499\" y=\"-69.8\" font-family=\"Times,serif\" font-size=\"14.00\">gard 0.3592</text>\n</g>\n<!-- 140246931283920&#45;&gt;140246931279936+ -->\n<g id=\"edge20\" class=\"edge\">\n<title>140246931283920&#45;&gt;140246931279936+</title>\n<path fill=\"none\" stroke=\"black\" d=\"M540.4,-90.6C549.72,-92.1 558.65,-93.53 566.68,-94.82\"/>\n<polygon fill=\"black\" stroke=\"black\" points=\"566.24,-98.3 576.66,-96.43 567.35,-91.39 566.24,-98.3\"/>\n</g>\n<!-- 140246931283920*&#45;&gt;140246931283920 -->\n<g id=\"edge10\" class=\"edge\">\n<title>140246931283920*&#45;&gt;140246931283920</title>\n<path fill=\"none\" stroke=\"black\" d=\"M290.25,-73.5C297.7,-73.5 306.34,-73.5 315.59,-73.5\"/>\n<polygon fill=\"black\" stroke=\"black\" points=\"315.84,-77 325.84,-73.5 315.84,-70 315.84,-77\"/>\n</g>\n</g>\n</svg>\n",
      "text/plain": [
       "<graphviz.graphs.Digraph at 0x7f8dc88518e0>"
      ]
     },
     "execution_count": 172,
     "metadata": {},
     "output_type": "execute_result"
    }
   ],
   "source": [
    "x1 = Value(2.0,label='x1')\n",
    "x2 = Value(1.0,label='x2')\n",
    "#weights\n",
    "w1 = Value(-3.0,label='w1')\n",
    "w2 = Value(2.0,label='w2')\n",
    "#bias\n",
    "b = Value(2.9, label = 'b')\n",
    "w1x1 = x1*w1; w1x1.label ='w1x1'\n",
    "w2x2 = x2*w2; w2x2.label='w2x2'\n",
    "w1x1w2x2 = w1x1 + w2x2; w1x1w2x2.label='w1x1 + w2x2'\n",
    "n = w1x1w2x2 + b; n.label = 'n'\n",
    "e = (2*n).exp(); e.label = 'e'\n",
    "\n",
    "o = (e - 1)/(e + 1); o.label = 'out'\n",
    "\n",
    "o.backward()\n",
    "draw_dot(o)"
   ]
  },
  {
   "cell_type": "code",
   "execution_count": 173,
   "metadata": {},
   "outputs": [
    {
     "name": "stdout",
     "output_type": "stream",
     "text": [
      "-0.8004989875045201\n",
      "-----\n",
      "w1 0.7184027420084764\n",
      "x1 -1.0776041130127147\n",
      "x2 0.7184027420084764\n",
      "w2 0.3592013710042382\n",
      "n None\n"
     ]
    },
    {
     "name": "stderr",
     "output_type": "stream",
     "text": [
      "/var/folders/z1/13bdlnjn41j46r3v6_st6w0c0000gn/T/ipykernel_1286/2776097840.py:26: UserWarning: The .grad attribute of a Tensor that is not a leaf Tensor is being accessed. Its .grad attribute won't be populated during autograd.backward(). If you indeed want the .grad field to be populated for a non-leaf Tensor, use .retain_grad() on the non-leaf Tensor. If you access the non-leaf Tensor by mistake, make sure you access the leaf Tensor instead. See github.com/pytorch/pytorch/pull/30531 for more informations. (Triggered internally at /Users/runner/work/pytorch/pytorch/pytorch/build/aten/src/ATen/core/TensorBody.h:494.)\n",
      "  print('n',n.grad)\n"
     ]
    }
   ],
   "source": [
    "\n",
    "x1 =  torch.tensor([2]).double(); x1.requires_grad =True\n",
    "x2  = torch.tensor([1]).double(); x2.requires_grad =True\n",
    "w1 = torch.tensor([-3]).double(); w1.requires_grad =True\n",
    "w2 = torch.tensor([2]).double(); w2.requires_grad = True\n",
    "b = torch.tensor([2.9]).double(); b.requires_grad= True\n",
    "\n",
    "n= w1*x1 + w2*x2 +b\n",
    "o = torch.tanh(n)\n",
    "print(o.data.item())\n",
    "o.backward()\n",
    "\n",
    "print(\"-----\")\n",
    "print('w1',w1.grad.item())\n",
    "print('x1',x1.grad.item())\n",
    "print('x2',x2.grad.item())\n",
    "print('w2',w2.grad.item())\n",
    "print('n',n.grad)\n"
   ]
  },
  {
   "cell_type": "code",
   "execution_count": 178,
   "metadata": {},
   "outputs": [],
   "source": [
    "import random\n",
    "\n",
    "class Neuron:\n",
    "    def __init__(self,ninput):\n",
    "        self.w = [Value(random.uniform(-1,1)) for _ in range(ninput)]\n",
    "        self.b = Value(random.uniform(-1,1))\n",
    "    \n",
    "    def __call__(self, x):\n",
    "        # w*x + b\n",
    "        act = sum((wi* xi for wi,xi in zip(self.w , x)),self.b)\n",
    "        out = act.tanh()\n",
    "        return out\n",
    "    def parameters(self):\n",
    "        return self.w + [self.b]\n",
    "class Layer:\n",
    "    def __init__(self,ninput,nout):\n",
    "        self.neurons = [Neuron(ninput) for _ in range(nout)]\n",
    "    def __call__(self,x):\n",
    "        outs = [n(x) for n in self.neurons]\n",
    "        return outs[0] if len(outs) == 1 else outs\n",
    "    def parameters(self):\n",
    "        return [p for neuron in self.neurons for p in neuron.parameters()]\n",
    "class MLP:\n",
    "    def __init__(self,ninput,nouts):\n",
    "        sz = [ninput] + nouts\n",
    "        self.layers = [Layer(sz[i] ,sz[i+1]) for i in range(len(nouts))]\n",
    "    def __call__(self,x):\n",
    "        for layer in self.layers:\n",
    "            x = layer(x)\n",
    "        return x\n",
    "    def parameters(self):\n",
    "        return [p for layer in self.layers for p in layer.parameters()]"
   ]
  },
  {
   "cell_type": "code",
   "execution_count": 361,
   "metadata": {},
   "outputs": [],
   "source": [
    "n = MLP(3,[4,4,1])"
   ]
  },
  {
   "cell_type": "code",
   "execution_count": 355,
   "metadata": {},
   "outputs": [],
   "source": [
    "xs = [\n",
    "  [2.0, 3.0, -1.0],\n",
    "  [3.0, -1.0, 0.5],\n",
    "  [0.5, 1.0, 1.0],\n",
    "  [1.0, 1.0, -1.0],\n",
    "]\n",
    "ys = [1.0, -1.0, -1.0, 1.0] # desired targets"
   ]
  },
  {
   "cell_type": "code",
   "execution_count": 376,
   "metadata": {},
   "outputs": [
    {
     "name": "stdout",
     "output_type": "stream",
     "text": [
      "0 0.001121658152207949\n",
      "1 0.001117474971956843\n",
      "2 0.001113322382505856\n",
      "3 0.0011092000522510016\n",
      "4 0.0011051076543389902\n",
      "5 0.0011010448665827032\n",
      "6 0.0010970113713785767\n",
      "7 0.0010930068556256735\n",
      "8 0.0010890310106464272\n",
      "9 0.0010850835321091564\n",
      "10 0.0010811641199520638\n",
      "11 0.0010772724783089083\n",
      "12 0.0010734083154362068\n",
      "13 0.0010695713436419266\n",
      "14 0.0010657612792156568\n",
      "15 0.0010619778423601868\n",
      "16 0.001058220757124576\n",
      "17 0.0010544897513384457\n",
      "18 0.0010507845565477375\n",
      "19 0.0010471049079517475\n"
     ]
    }
   ],
   "source": [
    "for k in range(20):\n",
    "    #forward\n",
    "    ypred = [n(x) for x in xs]\n",
    "    loss = sum([(yout - ygt)**2 for ygt, yout in zip(ys,ypred)])\n",
    "    \n",
    "    #backward pass\n",
    "    for p in n.parameters():\n",
    "        p.grad = 0.0\n",
    "    loss.backward()\n",
    "\n",
    "    #update\n",
    "    for p in n.parameters():\n",
    "        p.data -= 0.1 * p.grad\n",
    "\n",
    "    print(k, loss.data)"
   ]
  },
  {
   "cell_type": "code",
   "execution_count": 377,
   "metadata": {},
   "outputs": [
    {
     "data": {
      "text/plain": [
       "[Value(data= 0.9856597027289836),\n",
       " Value(data= -0.9772390710064102),\n",
       " Value(data= -0.987614705298709),\n",
       " Value(data= 0.9869613893132143)]"
      ]
     },
     "execution_count": 377,
     "metadata": {},
     "output_type": "execute_result"
    }
   ],
   "source": [
    "ypred"
   ]
  },
  {
   "cell_type": "code",
   "execution_count": null,
   "metadata": {},
   "outputs": [],
   "source": []
  }
 ],
 "metadata": {
  "kernelspec": {
   "display_name": "Python 3.9.12 ('base')",
   "language": "python",
   "name": "python3"
  },
  "language_info": {
   "codemirror_mode": {
    "name": "ipython",
    "version": 3
   },
   "file_extension": ".py",
   "mimetype": "text/x-python",
   "name": "python",
   "nbconvert_exporter": "python",
   "pygments_lexer": "ipython3",
   "version": "3.9.12"
  },
  "orig_nbformat": 4,
  "vscode": {
   "interpreter": {
    "hash": "7e2a3d9cade2c838b468d7683c8c589b2b17c5fc4d98ee8723f0a8a5c724aa01"
   }
  }
 },
 "nbformat": 4,
 "nbformat_minor": 2
}
